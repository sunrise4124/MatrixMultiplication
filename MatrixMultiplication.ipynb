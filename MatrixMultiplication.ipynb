{
 "cells": [
  {
   "cell_type": "code",
   "execution_count": 1,
   "id": "360fcb12-fb00-43ca-a2b4-5b266422c451",
   "metadata": {},
   "outputs": [
    {
     "name": "stdin",
     "output_type": "stream",
     "text": [
      "Enter the number of rows in the matrices:  100\n",
      "Enter the number of columns in the matrices:  100\n"
     ]
    },
    {
     "name": "stdout",
     "output_type": "stream",
     "text": [
      "Time taken for matrix multiplication: 1.24 milliseconds\n"
     ]
    }
   ],
   "source": [
    "import numpy as np\n",
    "import time\n",
    "\n",
    "def generate_random_matrix(rows, cols):\n",
    "    return np.random.randint(0, 10, size=(rows, cols))\n",
    "\n",
    "def multiply_matrices(matrix1, matrix2):\n",
    "    return np.dot(matrix1, matrix2)\n",
    "\n",
    "def main():\n",
    "    # Input matrix dimensions\n",
    "    m_rows = int(input(\"Enter the number of rows in the matrices: \"))\n",
    "    m_cols = int(input(\"Enter the number of columns in the matrices: \"))\n",
    "\n",
    "    # Generate random matrices\n",
    "    matrix1 = generate_random_matrix(m_rows, m_cols)\n",
    "    matrix2 = generate_random_matrix(m_rows, m_cols)\n",
    "\n",
    "    # Perform matrix multiplication and measure time taken\n",
    "    start_time = time.time()\n",
    "    result = multiply_matrices(matrix1, matrix2)\n",
    "    end_time = time.time()\n",
    "    duration = (end_time - start_time) * 1000  # Convert to milliseconds\n",
    "\n",
    "    print(\"Time taken for matrix multiplication: {:.2f} milliseconds\".format(duration))\n",
    "\n",
    "if __name__ == \"__main__\":\n",
    "    main()\n"
   ]
  },
  {
   "cell_type": "code",
   "execution_count": 2,
   "id": "f9bafd8c-1109-409d-93f8-0ae7d59f5b7a",
   "metadata": {},
   "outputs": [
    {
     "name": "stdin",
     "output_type": "stream",
     "text": [
      "Enter the number of rows in the matrices:  500\n",
      "Enter the number of columns in the matrices:  500\n"
     ]
    },
    {
     "name": "stdout",
     "output_type": "stream",
     "text": [
      "Time taken for matrix multiplication: 125.81 milliseconds\n"
     ]
    }
   ],
   "source": [
    "import numpy as np\n",
    "import time\n",
    "\n",
    "def generate_random_matrix(rows, cols):\n",
    "    return np.random.randint(0, 10, size=(rows, cols))\n",
    "\n",
    "def multiply_matrices(matrix1, matrix2):\n",
    "    return np.dot(matrix1, matrix2)\n",
    "\n",
    "def main():\n",
    "    # Input matrix dimensions\n",
    "    m_rows = int(input(\"Enter the number of rows in the matrices: \"))\n",
    "    m_cols = int(input(\"Enter the number of columns in the matrices: \"))\n",
    "\n",
    "    # Generate random matrices\n",
    "    matrix1 = generate_random_matrix(m_rows, m_cols)\n",
    "    matrix2 = generate_random_matrix(m_rows, m_cols)\n",
    "\n",
    "    # Perform matrix multiplication and measure time taken\n",
    "    start_time = time.time()\n",
    "    result = multiply_matrices(matrix1, matrix2)\n",
    "    end_time = time.time()\n",
    "    duration = (end_time - start_time) * 1000  # Convert to milliseconds\n",
    "\n",
    "    print(\"Time taken for matrix multiplication: {:.2f} milliseconds\".format(duration))\n",
    "\n",
    "if __name__ == \"__main__\":\n",
    "    main()\n"
   ]
  },
  {
   "cell_type": "code",
   "execution_count": 3,
   "id": "fea3a831-8afa-42b9-9fcc-336d7e2f27c6",
   "metadata": {},
   "outputs": [
    {
     "name": "stdin",
     "output_type": "stream",
     "text": [
      "Enter the number of rows in the matrices:  1000\n",
      "Enter the number of columns in the matrices:  1000\n"
     ]
    },
    {
     "name": "stdout",
     "output_type": "stream",
     "text": [
      "Time taken for matrix multiplication: 879.12 milliseconds\n"
     ]
    }
   ],
   "source": [
    "import numpy as np\n",
    "import time\n",
    "\n",
    "def generate_random_matrix(rows, cols):\n",
    "    return np.random.randint(0, 10, size=(rows, cols))\n",
    "\n",
    "def multiply_matrices(matrix1, matrix2):\n",
    "    return np.dot(matrix1, matrix2)\n",
    "\n",
    "def main():\n",
    "    # Input matrix dimensions\n",
    "    m_rows = int(input(\"Enter the number of rows in the matrices: \"))\n",
    "    m_cols = int(input(\"Enter the number of columns in the matrices: \"))\n",
    "\n",
    "    # Generate random matrices\n",
    "    matrix1 = generate_random_matrix(m_rows, m_cols)\n",
    "    matrix2 = generate_random_matrix(m_rows, m_cols)\n",
    "\n",
    "    # Perform matrix multiplication and measure time taken\n",
    "    start_time = time.time()\n",
    "    result = multiply_matrices(matrix1, matrix2)\n",
    "    end_time = time.time()\n",
    "    duration = (end_time - start_time) * 1000  # Convert to milliseconds\n",
    "\n",
    "    print(\"Time taken for matrix multiplication: {:.2f} milliseconds\".format(duration))\n",
    "\n",
    "if __name__ == \"__main__\":\n",
    "    main()\n"
   ]
  },
  {
   "cell_type": "code",
   "execution_count": 4,
   "id": "3abc2b86-e538-4e0b-a2e0-badb162fa101",
   "metadata": {},
   "outputs": [
    {
     "name": "stdin",
     "output_type": "stream",
     "text": [
      "Enter the number of rows in the matrices:  2000\n",
      "Enter the number of columns in the matrices:  2000\n"
     ]
    },
    {
     "name": "stdout",
     "output_type": "stream",
     "text": [
      "Time taken for matrix multiplication: 12339.25 milliseconds\n"
     ]
    }
   ],
   "source": [
    "import numpy as np\n",
    "import time\n",
    "\n",
    "def generate_random_matrix(rows, cols):\n",
    "    return np.random.randint(0, 10, size=(rows, cols))\n",
    "\n",
    "def multiply_matrices(matrix1, matrix2):\n",
    "    return np.dot(matrix1, matrix2)\n",
    "\n",
    "def main():\n",
    "    # Input matrix dimensions\n",
    "    m_rows = int(input(\"Enter the number of rows in the matrices: \"))\n",
    "    m_cols = int(input(\"Enter the number of columns in the matrices: \"))\n",
    "\n",
    "    # Generate random matrices\n",
    "    matrix1 = generate_random_matrix(m_rows, m_cols)\n",
    "    matrix2 = generate_random_matrix(m_rows, m_cols)\n",
    "\n",
    "    # Perform matrix multiplication and measure time taken\n",
    "    start_time = time.time()\n",
    "    result = multiply_matrices(matrix1, matrix2)\n",
    "    end_time = time.time()\n",
    "    duration = (end_time - start_time) * 1000  # Convert to milliseconds\n",
    "\n",
    "    print(\"Time taken for matrix multiplication: {:.2f} milliseconds\".format(duration))\n",
    "\n",
    "if __name__ == \"__main__\":\n",
    "    main()\n"
   ]
  },
  {
   "cell_type": "code",
   "execution_count": 5,
   "id": "be212a1b-a06c-4566-8207-54e6d1acc19c",
   "metadata": {},
   "outputs": [
    {
     "name": "stdin",
     "output_type": "stream",
     "text": [
      "Enter the number of rows in the matrices:  5000\n",
      "Enter the number of columns in the matrices:  5000\n"
     ]
    },
    {
     "name": "stdout",
     "output_type": "stream",
     "text": [
      "Time taken for matrix multiplication: 508810.53 milliseconds\n"
     ]
    }
   ],
   "source": [
    "import numpy as np\n",
    "import time\n",
    "\n",
    "def generate_random_matrix(rows, cols):\n",
    "    return np.random.randint(0, 10, size=(rows, cols))\n",
    "\n",
    "def multiply_matrices(matrix1, matrix2):\n",
    "    return np.dot(matrix1, matrix2)\n",
    "\n",
    "def main():\n",
    "    # Input matrix dimensions\n",
    "    m_rows = int(input(\"Enter the number of rows in the matrices: \"))\n",
    "    m_cols = int(input(\"Enter the number of columns in the matrices: \"))\n",
    "\n",
    "    # Generate random matrices\n",
    "    matrix1 = generate_random_matrix(m_rows, m_cols)\n",
    "    matrix2 = generate_random_matrix(m_rows, m_cols)\n",
    "\n",
    "    # Perform matrix multiplication and measure time taken\n",
    "    start_time = time.time()\n",
    "    result = multiply_matrices(matrix1, matrix2)\n",
    "    end_time = time.time()\n",
    "    duration = (end_time - start_time) * 1000  # Convert to milliseconds\n",
    "\n",
    "    print(\"Time taken for matrix multiplication: {:.2f} milliseconds\".format(duration))\n",
    "\n",
    "if __name__ == \"__main__\":\n",
    "    main()"
   ]
  },
  {
   "cell_type": "code",
   "execution_count": null,
   "id": "377bdc80-d723-438e-8601-ffb3f5744347",
   "metadata": {},
   "outputs": [
    {
     "name": "stdin",
     "output_type": "stream",
     "text": [
      "Enter the number of rows in the matrices:  10000\n",
      "Enter the number of columns in the matrices:  10000\n"
     ]
    }
   ],
   "source": [
    "import numpy as np\n",
    "import time\n",
    "\n",
    "def generate_random_matrix(rows, cols):\n",
    "    return np.random.randint(0, 10, size=(rows, cols))\n",
    "\n",
    "def multiply_matrices(matrix1, matrix2):\n",
    "    return np.dot(matrix1, matrix2)\n",
    "\n",
    "def main():\n",
    "    # Input matrix dimensions\n",
    "    m_rows = int(input(\"Enter the number of rows in the matrices: \"))\n",
    "    m_cols = int(input(\"Enter the number of columns in the matrices: \"))\n",
    "\n",
    "    # Generate random matrices\n",
    "    matrix1 = generate_random_matrix(m_rows, m_cols)\n",
    "    matrix2 = generate_random_matrix(m_rows, m_cols)\n",
    "\n",
    "    # Perform matrix multiplication and measure time taken\n",
    "    start_time = time.time()\n",
    "    result = multiply_matrices(matrix1, matrix2)\n",
    "    end_time = time.time()\n",
    "    duration = (end_time - start_time) * 1000  # Convert to milliseconds\n",
    "\n",
    "    print(\"Time taken for matrix multiplication: {:.2f} milliseconds\".format(duration))\n",
    "\n",
    "if __name__ == \"__main__\":\n",
    "    main()"
   ]
  },
  {
   "cell_type": "code",
   "execution_count": null,
   "id": "517a1b94-38c1-4d24-8b8f-b7101db88f32",
   "metadata": {},
   "outputs": [],
   "source": []
  }
 ],
 "metadata": {
  "kernelspec": {
   "display_name": "Python [conda env:cpsc330]",
   "language": "python",
   "name": "conda-env-cpsc330-py"
  },
  "language_info": {
   "codemirror_mode": {
    "name": "ipython",
    "version": 3
   },
   "file_extension": ".py",
   "mimetype": "text/x-python",
   "name": "python",
   "nbconvert_exporter": "python",
   "pygments_lexer": "ipython3",
   "version": "3.10.0"
  }
 },
 "nbformat": 4,
 "nbformat_minor": 5
}
